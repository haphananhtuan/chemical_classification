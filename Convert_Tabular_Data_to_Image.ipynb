{
  "nbformat": 4,
  "nbformat_minor": 0,
  "metadata": {
    "colab": {
      "name": "Convert Tabular Data to Image.ipynb",
      "version": "0.3.2",
      "provenance": [],
      "include_colab_link": true
    },
    "kernelspec": {
      "name": "python3",
      "display_name": "Python 3"
    }
  },
  "cells": [
    {
      "cell_type": "markdown",
      "metadata": {
        "id": "view-in-github",
        "colab_type": "text"
      },
      "source": [
        "<a href=\"https://colab.research.google.com/github/haphananhtuan/chemical_classification/blob/master/Convert_Tabular_Data_to_Image.ipynb\" target=\"_parent\"><img src=\"https://colab.research.google.com/assets/colab-badge.svg\" alt=\"Open In Colab\"/></a>"
      ]
    },
    {
      "metadata": {
        "id": "xgpEZ-kKalyY",
        "colab_type": "text"
      },
      "cell_type": "markdown",
      "source": [
        "Create folder and Load dataset"
      ]
    },
    {
      "metadata": {
        "id": "LEEH3uuQaf4_",
        "colab_type": "code",
        "colab": {}
      },
      "cell_type": "code",
      "source": [
        "!mkdir data_sample"
      ],
      "execution_count": 0,
      "outputs": []
    },
    {
      "metadata": {
        "id": "lJThueP9aqZt",
        "colab_type": "code",
        "colab": {}
      },
      "cell_type": "code",
      "source": [
        "import os \n",
        "import numpy as np\n",
        "import pandas as pd\n",
        "import seaborn as sns\n",
        "\n",
        "import matplotlib.pyplot as plt\n",
        "import tensorflow as tf\n"
      ],
      "execution_count": 0,
      "outputs": []
    },
    {
      "metadata": {
        "id": "-PwhMOE6awc0",
        "colab_type": "code",
        "colab": {}
      },
      "cell_type": "code",
      "source": [
        "data_path = \"/content/data_sample/\"\n",
        "data = pd.DataFrame()\n",
        "\n",
        "\n",
        "for filename in os.listdir(data_path):\n",
        "    absorbance = pd.read_csv(data_path + filename)[\"Absorbance (AU)\"]\n",
        "    absorbance.at[absorbance.size] = filename[:3]\n",
        "    data = data.append(absorbance, ignore_index=True)"
      ],
      "execution_count": 0,
      "outputs": []
    },
    {
      "metadata": {
        "id": "YDQo9ILma2bV",
        "colab_type": "text"
      },
      "cell_type": "markdown",
      "source": [
        "Remove class which only have few samples"
      ]
    },
    {
      "metadata": {
        "id": "WXkkvhUea1ty",
        "colab_type": "code",
        "colab": {}
      },
      "cell_type": "code",
      "source": [
        "classes = ['Cbs', 'Mel', 'Cel', 'Gua', 'P-S']\n",
        "data = data[~data[228].isin(classes)]\n",
        "\n",
        "\n",
        "target = data[228].value_counts()\n",
        "target = target[target < 40].reset_index()['index'].values # get the classes that have least data points\n",
        "data_augmented = data.copy()\n",
        "\n",
        "# simple data augmentation by adding gaussian noise to the mean of each feature of a sample\n",
        "num_adding = 40\n",
        "for label in target:\n",
        "    label_mean = data_augmented[data_augmented[228] == label].drop(228, axis=1).mean().values\n",
        "    for _ in range(num_adding):\n",
        "        sample = pd.Series(label_mean)\n",
        "        sample += np.random.randn(sample.size) * 0.01\n",
        "        sample.at[sample.size] = label\n",
        "        data_augmented = data_augmented.append(sample, ignore_index=True)\n",
        "        \n",
        "X = data_augmented.drop(228, axis=1).values\n",
        "Y = data_augmented[228].values"
      ],
      "execution_count": 0,
      "outputs": []
    },
    {
      "metadata": {
        "id": "8kINOOJ6pf0O",
        "colab_type": "code",
        "outputId": "08a36982-abcf-4b10-feee-7524e78e5984",
        "colab": {
          "base_uri": "https://localhost:8080/",
          "height": 34
        }
      },
      "cell_type": "code",
      "source": [
        "print(X.shape)"
      ],
      "execution_count": 0,
      "outputs": [
        {
          "output_type": "stream",
          "text": [
            "(1214, 228)\n"
          ],
          "name": "stdout"
        }
      ]
    },
    {
      "metadata": {
        "id": "6FvZUnwmpkdE",
        "colab_type": "code",
        "colab": {}
      },
      "cell_type": "code",
      "source": [
        "fig = plt.figure(figsize=(10, 5))\n",
        "\n",
        "for "
      ],
      "execution_count": 0,
      "outputs": []
    }
  ]
}